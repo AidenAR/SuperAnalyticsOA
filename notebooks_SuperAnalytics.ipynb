{
  "metadata": {
    "language_info": {
      "codemirror_mode": {
        "name": "python",
        "version": 3
      },
      "file_extension": ".py",
      "mimetype": "text/x-python",
      "name": "python",
      "nbconvert_exporter": "python",
      "pygments_lexer": "ipython3",
      "version": "3.8"
    },
    "kernelspec": {
      "name": "python",
      "display_name": "Python (Pyodide)",
      "language": "python"
    }
  },
  "nbformat_minor": 4,
  "nbformat": 4,
  "cells": [
    {
      "cell_type": "code",
      "source": "import pandas as pd",
      "metadata": {
        "trusted": true
      },
      "execution_count": 1,
      "outputs": []
    },
    {
      "cell_type": "code",
      "source": "#data below is a stringified table where delimiter is ';' and line_terminator is '\\n'.\ndata = 'Airline Code;DelayTimes;FlightCodes;To_From\\nAir Canada (!);[21, 40];20015.0;WAterLoo_NEWYork\\n<Air France> (12);[];;Montreal_TORONTO\\n(Porter Airways. );[60, 22, 87];20035.0;CALgary_Ottawa\\n12. Air France;[78, 66];;Ottawa_VANcouvER\\n\"\"\".\\\\.Lufthansa.\\\\.\"\"\";[12, 33];20055.0;london_MONTreal\\n'",
      "metadata": {
        "trusted": true
      },
      "execution_count": 2,
      "outputs": []
    },
    {
      "cell_type": "raw",
      "source": "Requirements\nPlease create a new table with the following transformations on the above command separated data:\n\n1. FlightCodes column: Some values are null. Flight Codes are supposed to increase by 10 with each row so 1010 and 1030 will have 1020 in the middle. Fill in these missing numbers and make the column an integer column (instead of a float column).\n\n2. To_From column: Should be split into two separate columns for better analysis! Split on '_' to create two new columns respectively. \nAlso, the case of the column is not very readable, convert the column into capital case.\n\n3. Airline Code column: Clean the Airline Codes to have no punctuation except spaces in the middle. E.g. '(Porter Airways. )' should become 'Porter Airways'.",
      "metadata": {}
    },
    {
      "cell_type": "code",
      "source": "# Split the data into rows\nrows = data.strip().split('\\n')\nprint(rows)",
      "metadata": {
        "trusted": true
      },
      "execution_count": 3,
      "outputs": [
        {
          "name": "stdout",
          "text": "['Airline Code;DelayTimes;FlightCodes;To_From', 'Air Canada (!);[21, 40];20015.0;WAterLoo_NEWYork', '<Air France> (12);[];;Montreal_TORONTO', '(Porter Airways. );[60, 22, 87];20035.0;CALgary_Ottawa', '12. Air France;[78, 66];;Ottawa_VANcouvER', '\"\"\".\\\\.Lufthansa.\\\\.\"\"\";[12, 33];20055.0;london_MONTreal']\n",
          "output_type": "stream"
        }
      ]
    },
    {
      "cell_type": "code",
      "source": "# Split each row into columns\ncolumns = [row.split(';') for row in rows]\nprint(columns)",
      "metadata": {
        "trusted": true
      },
      "execution_count": 4,
      "outputs": [
        {
          "name": "stdout",
          "text": "[['Airline Code', 'DelayTimes', 'FlightCodes', 'To_From'], ['Air Canada (!)', '[21, 40]', '20015.0', 'WAterLoo_NEWYork'], ['<Air France> (12)', '[]', '', 'Montreal_TORONTO'], ['(Porter Airways. )', '[60, 22, 87]', '20035.0', 'CALgary_Ottawa'], ['12. Air France', '[78, 66]', '', 'Ottawa_VANcouvER'], ['\"\"\".\\\\.Lufthansa.\\\\.\"\"\"', '[12, 33]', '20055.0', 'london_MONTreal']]\n",
          "output_type": "stream"
        }
      ]
    },
    {
      "cell_type": "code",
      "source": "# Create a pandas DataFrame from the columns\ndf = pd.DataFrame(columns)\ndf.columns = df.iloc[0]\ndf = df[1:]\nprint(df.columns)",
      "metadata": {
        "trusted": true
      },
      "execution_count": 5,
      "outputs": [
        {
          "name": "stdout",
          "text": "Index(['Airline Code', 'DelayTimes', 'FlightCodes', 'To_From'], dtype='object', name=0)\n",
          "output_type": "stream"
        }
      ]
    },
    {
      "cell_type": "code",
      "source": "df.head()",
      "metadata": {
        "trusted": true
      },
      "execution_count": 6,
      "outputs": [
        {
          "execution_count": 6,
          "output_type": "execute_result",
          "data": {
            "text/plain": "0           Airline Code    DelayTimes FlightCodes           To_From\n1         Air Canada (!)      [21, 40]     20015.0  WAterLoo_NEWYork\n2      <Air France> (12)            []              Montreal_TORONTO\n3     (Porter Airways. )  [60, 22, 87]     20035.0    CALgary_Ottawa\n4         12. Air France      [78, 66]              Ottawa_VANcouvER\n5  \"\"\".\\.Lufthansa.\\.\"\"\"      [12, 33]     20055.0   london_MONTreal",
            "text/html": "<div>\n<style scoped>\n    .dataframe tbody tr th:only-of-type {\n        vertical-align: middle;\n    }\n\n    .dataframe tbody tr th {\n        vertical-align: top;\n    }\n\n    .dataframe thead th {\n        text-align: right;\n    }\n</style>\n<table border=\"1\" class=\"dataframe\">\n  <thead>\n    <tr style=\"text-align: right;\">\n      <th></th>\n      <th>Airline Code</th>\n      <th>DelayTimes</th>\n      <th>FlightCodes</th>\n      <th>To_From</th>\n    </tr>\n  </thead>\n  <tbody>\n    <tr>\n      <th>1</th>\n      <td>Air Canada (!)</td>\n      <td>[21, 40]</td>\n      <td>20015.0</td>\n      <td>WAterLoo_NEWYork</td>\n    </tr>\n    <tr>\n      <th>2</th>\n      <td>&lt;Air France&gt; (12)</td>\n      <td>[]</td>\n      <td></td>\n      <td>Montreal_TORONTO</td>\n    </tr>\n    <tr>\n      <th>3</th>\n      <td>(Porter Airways. )</td>\n      <td>[60, 22, 87]</td>\n      <td>20035.0</td>\n      <td>CALgary_Ottawa</td>\n    </tr>\n    <tr>\n      <th>4</th>\n      <td>12. Air France</td>\n      <td>[78, 66]</td>\n      <td></td>\n      <td>Ottawa_VANcouvER</td>\n    </tr>\n    <tr>\n      <th>5</th>\n      <td>\"\"\".\\.Lufthansa.\\.\"\"\"</td>\n      <td>[12, 33]</td>\n      <td>20055.0</td>\n      <td>london_MONTreal</td>\n    </tr>\n  </tbody>\n</table>\n</div>"
          },
          "metadata": {}
        }
      ]
    },
    {
      "cell_type": "code",
      "source": "# Convert FlightCodes to numeric\ndf['FlightCodes'] = pd.to_numeric(df['FlightCodes'], errors='coerce')\n\n# Identify missing values and set them to the previous value plus 10\nmissing_mask = df['FlightCodes'].isna()\ndf['FlightCodes'] = df['FlightCodes'].ffill() + 10 * missing_mask\n\n# Convert to integer\ndf['FlightCodes'] = df['FlightCodes'].astype(int)\n",
      "metadata": {
        "trusted": true
      },
      "execution_count": 7,
      "outputs": []
    },
    {
      "cell_type": "code",
      "source": "df.head()",
      "metadata": {
        "trusted": true
      },
      "execution_count": 8,
      "outputs": [
        {
          "execution_count": 8,
          "output_type": "execute_result",
          "data": {
            "text/plain": "0           Airline Code    DelayTimes  FlightCodes           To_From\n1         Air Canada (!)      [21, 40]        20015  WAterLoo_NEWYork\n2      <Air France> (12)            []        20025  Montreal_TORONTO\n3     (Porter Airways. )  [60, 22, 87]        20035    CALgary_Ottawa\n4         12. Air France      [78, 66]        20045  Ottawa_VANcouvER\n5  \"\"\".\\.Lufthansa.\\.\"\"\"      [12, 33]        20055   london_MONTreal",
            "text/html": "<div>\n<style scoped>\n    .dataframe tbody tr th:only-of-type {\n        vertical-align: middle;\n    }\n\n    .dataframe tbody tr th {\n        vertical-align: top;\n    }\n\n    .dataframe thead th {\n        text-align: right;\n    }\n</style>\n<table border=\"1\" class=\"dataframe\">\n  <thead>\n    <tr style=\"text-align: right;\">\n      <th></th>\n      <th>Airline Code</th>\n      <th>DelayTimes</th>\n      <th>FlightCodes</th>\n      <th>To_From</th>\n    </tr>\n  </thead>\n  <tbody>\n    <tr>\n      <th>1</th>\n      <td>Air Canada (!)</td>\n      <td>[21, 40]</td>\n      <td>20015</td>\n      <td>WAterLoo_NEWYork</td>\n    </tr>\n    <tr>\n      <th>2</th>\n      <td>&lt;Air France&gt; (12)</td>\n      <td>[]</td>\n      <td>20025</td>\n      <td>Montreal_TORONTO</td>\n    </tr>\n    <tr>\n      <th>3</th>\n      <td>(Porter Airways. )</td>\n      <td>[60, 22, 87]</td>\n      <td>20035</td>\n      <td>CALgary_Ottawa</td>\n    </tr>\n    <tr>\n      <th>4</th>\n      <td>12. Air France</td>\n      <td>[78, 66]</td>\n      <td>20045</td>\n      <td>Ottawa_VANcouvER</td>\n    </tr>\n    <tr>\n      <th>5</th>\n      <td>\"\"\".\\.Lufthansa.\\.\"\"\"</td>\n      <td>[12, 33]</td>\n      <td>20055</td>\n      <td>london_MONTreal</td>\n    </tr>\n  </tbody>\n</table>\n</div>"
          },
          "metadata": {}
        }
      ]
    },
    {
      "cell_type": "code",
      "source": "# Split To_From column into two separate columns\ndf[['To', 'From']] = df['To_From'].str.split('_', expand=True)\n\n#convert to capital case\ndf['To'] = df['To'].str.upper()\ndf['From'] = df['From'].str.upper()\n\n# Drop the original To_From column\ndf.drop('To_From', axis=1, inplace=True)\n",
      "metadata": {
        "trusted": true
      },
      "execution_count": 9,
      "outputs": []
    },
    {
      "cell_type": "code",
      "source": "df.head()",
      "metadata": {
        "trusted": true
      },
      "execution_count": 10,
      "outputs": [
        {
          "execution_count": 10,
          "output_type": "execute_result",
          "data": {
            "text/plain": "0           Airline Code    DelayTimes  FlightCodes        To       From\n1         Air Canada (!)      [21, 40]        20015  WATERLOO    NEWYORK\n2      <Air France> (12)            []        20025  MONTREAL    TORONTO\n3     (Porter Airways. )  [60, 22, 87]        20035   CALGARY     OTTAWA\n4         12. Air France      [78, 66]        20045    OTTAWA  VANCOUVER\n5  \"\"\".\\.Lufthansa.\\.\"\"\"      [12, 33]        20055    LONDON   MONTREAL",
            "text/html": "<div>\n<style scoped>\n    .dataframe tbody tr th:only-of-type {\n        vertical-align: middle;\n    }\n\n    .dataframe tbody tr th {\n        vertical-align: top;\n    }\n\n    .dataframe thead th {\n        text-align: right;\n    }\n</style>\n<table border=\"1\" class=\"dataframe\">\n  <thead>\n    <tr style=\"text-align: right;\">\n      <th></th>\n      <th>Airline Code</th>\n      <th>DelayTimes</th>\n      <th>FlightCodes</th>\n      <th>To</th>\n      <th>From</th>\n    </tr>\n  </thead>\n  <tbody>\n    <tr>\n      <th>1</th>\n      <td>Air Canada (!)</td>\n      <td>[21, 40]</td>\n      <td>20015</td>\n      <td>WATERLOO</td>\n      <td>NEWYORK</td>\n    </tr>\n    <tr>\n      <th>2</th>\n      <td>&lt;Air France&gt; (12)</td>\n      <td>[]</td>\n      <td>20025</td>\n      <td>MONTREAL</td>\n      <td>TORONTO</td>\n    </tr>\n    <tr>\n      <th>3</th>\n      <td>(Porter Airways. )</td>\n      <td>[60, 22, 87]</td>\n      <td>20035</td>\n      <td>CALGARY</td>\n      <td>OTTAWA</td>\n    </tr>\n    <tr>\n      <th>4</th>\n      <td>12. Air France</td>\n      <td>[78, 66]</td>\n      <td>20045</td>\n      <td>OTTAWA</td>\n      <td>VANCOUVER</td>\n    </tr>\n    <tr>\n      <th>5</th>\n      <td>\"\"\".\\.Lufthansa.\\.\"\"\"</td>\n      <td>[12, 33]</td>\n      <td>20055</td>\n      <td>LONDON</td>\n      <td>MONTREAL</td>\n    </tr>\n  </tbody>\n</table>\n</div>"
          },
          "metadata": {}
        }
      ]
    },
    {
      "cell_type": "code",
      "source": "# Clean the Airline Code column\ndf['Airline Code'] = df['Airline Code'].str.replace('[^a-zA-Z ]', '', regex=True)\ndf.head()",
      "metadata": {
        "trusted": true
      },
      "execution_count": 11,
      "outputs": [
        {
          "execution_count": 11,
          "output_type": "execute_result",
          "data": {
            "text/plain": "0     Airline Code    DelayTimes  FlightCodes        To       From\n1      Air Canada       [21, 40]        20015  WATERLOO    NEWYORK\n2      Air France             []        20025  MONTREAL    TORONTO\n3  Porter Airways   [60, 22, 87]        20035   CALGARY     OTTAWA\n4       Air France      [78, 66]        20045    OTTAWA  VANCOUVER\n5        Lufthansa      [12, 33]        20055    LONDON   MONTREAL",
            "text/html": "<div>\n<style scoped>\n    .dataframe tbody tr th:only-of-type {\n        vertical-align: middle;\n    }\n\n    .dataframe tbody tr th {\n        vertical-align: top;\n    }\n\n    .dataframe thead th {\n        text-align: right;\n    }\n</style>\n<table border=\"1\" class=\"dataframe\">\n  <thead>\n    <tr style=\"text-align: right;\">\n      <th></th>\n      <th>Airline Code</th>\n      <th>DelayTimes</th>\n      <th>FlightCodes</th>\n      <th>To</th>\n      <th>From</th>\n    </tr>\n  </thead>\n  <tbody>\n    <tr>\n      <th>1</th>\n      <td>Air Canada</td>\n      <td>[21, 40]</td>\n      <td>20015</td>\n      <td>WATERLOO</td>\n      <td>NEWYORK</td>\n    </tr>\n    <tr>\n      <th>2</th>\n      <td>Air France</td>\n      <td>[]</td>\n      <td>20025</td>\n      <td>MONTREAL</td>\n      <td>TORONTO</td>\n    </tr>\n    <tr>\n      <th>3</th>\n      <td>Porter Airways</td>\n      <td>[60, 22, 87]</td>\n      <td>20035</td>\n      <td>CALGARY</td>\n      <td>OTTAWA</td>\n    </tr>\n    <tr>\n      <th>4</th>\n      <td>Air France</td>\n      <td>[78, 66]</td>\n      <td>20045</td>\n      <td>OTTAWA</td>\n      <td>VANCOUVER</td>\n    </tr>\n    <tr>\n      <th>5</th>\n      <td>Lufthansa</td>\n      <td>[12, 33]</td>\n      <td>20055</td>\n      <td>LONDON</td>\n      <td>MONTREAL</td>\n    </tr>\n  </tbody>\n</table>\n</div>"
          },
          "metadata": {}
        }
      ]
    },
    {
      "cell_type": "code",
      "source": "df.head()",
      "metadata": {
        "trusted": true
      },
      "execution_count": 12,
      "outputs": [
        {
          "execution_count": 12,
          "output_type": "execute_result",
          "data": {
            "text/plain": "0     Airline Code    DelayTimes  FlightCodes        To       From\n1      Air Canada       [21, 40]        20015  WATERLOO    NEWYORK\n2      Air France             []        20025  MONTREAL    TORONTO\n3  Porter Airways   [60, 22, 87]        20035   CALGARY     OTTAWA\n4       Air France      [78, 66]        20045    OTTAWA  VANCOUVER\n5        Lufthansa      [12, 33]        20055    LONDON   MONTREAL",
            "text/html": "<div>\n<style scoped>\n    .dataframe tbody tr th:only-of-type {\n        vertical-align: middle;\n    }\n\n    .dataframe tbody tr th {\n        vertical-align: top;\n    }\n\n    .dataframe thead th {\n        text-align: right;\n    }\n</style>\n<table border=\"1\" class=\"dataframe\">\n  <thead>\n    <tr style=\"text-align: right;\">\n      <th></th>\n      <th>Airline Code</th>\n      <th>DelayTimes</th>\n      <th>FlightCodes</th>\n      <th>To</th>\n      <th>From</th>\n    </tr>\n  </thead>\n  <tbody>\n    <tr>\n      <th>1</th>\n      <td>Air Canada</td>\n      <td>[21, 40]</td>\n      <td>20015</td>\n      <td>WATERLOO</td>\n      <td>NEWYORK</td>\n    </tr>\n    <tr>\n      <th>2</th>\n      <td>Air France</td>\n      <td>[]</td>\n      <td>20025</td>\n      <td>MONTREAL</td>\n      <td>TORONTO</td>\n    </tr>\n    <tr>\n      <th>3</th>\n      <td>Porter Airways</td>\n      <td>[60, 22, 87]</td>\n      <td>20035</td>\n      <td>CALGARY</td>\n      <td>OTTAWA</td>\n    </tr>\n    <tr>\n      <th>4</th>\n      <td>Air France</td>\n      <td>[78, 66]</td>\n      <td>20045</td>\n      <td>OTTAWA</td>\n      <td>VANCOUVER</td>\n    </tr>\n    <tr>\n      <th>5</th>\n      <td>Lufthansa</td>\n      <td>[12, 33]</td>\n      <td>20055</td>\n      <td>LONDON</td>\n      <td>MONTREAL</td>\n    </tr>\n  </tbody>\n</table>\n</div>"
          },
          "metadata": {}
        }
      ]
    },
    {
      "cell_type": "code",
      "source": "df.tail()",
      "metadata": {
        "trusted": true
      },
      "execution_count": 13,
      "outputs": [
        {
          "execution_count": 13,
          "output_type": "execute_result",
          "data": {
            "text/plain": "0     Airline Code    DelayTimes  FlightCodes        To       From\n1      Air Canada       [21, 40]        20015  WATERLOO    NEWYORK\n2      Air France             []        20025  MONTREAL    TORONTO\n3  Porter Airways   [60, 22, 87]        20035   CALGARY     OTTAWA\n4       Air France      [78, 66]        20045    OTTAWA  VANCOUVER\n5        Lufthansa      [12, 33]        20055    LONDON   MONTREAL",
            "text/html": "<div>\n<style scoped>\n    .dataframe tbody tr th:only-of-type {\n        vertical-align: middle;\n    }\n\n    .dataframe tbody tr th {\n        vertical-align: top;\n    }\n\n    .dataframe thead th {\n        text-align: right;\n    }\n</style>\n<table border=\"1\" class=\"dataframe\">\n  <thead>\n    <tr style=\"text-align: right;\">\n      <th></th>\n      <th>Airline Code</th>\n      <th>DelayTimes</th>\n      <th>FlightCodes</th>\n      <th>To</th>\n      <th>From</th>\n    </tr>\n  </thead>\n  <tbody>\n    <tr>\n      <th>1</th>\n      <td>Air Canada</td>\n      <td>[21, 40]</td>\n      <td>20015</td>\n      <td>WATERLOO</td>\n      <td>NEWYORK</td>\n    </tr>\n    <tr>\n      <th>2</th>\n      <td>Air France</td>\n      <td>[]</td>\n      <td>20025</td>\n      <td>MONTREAL</td>\n      <td>TORONTO</td>\n    </tr>\n    <tr>\n      <th>3</th>\n      <td>Porter Airways</td>\n      <td>[60, 22, 87]</td>\n      <td>20035</td>\n      <td>CALGARY</td>\n      <td>OTTAWA</td>\n    </tr>\n    <tr>\n      <th>4</th>\n      <td>Air France</td>\n      <td>[78, 66]</td>\n      <td>20045</td>\n      <td>OTTAWA</td>\n      <td>VANCOUVER</td>\n    </tr>\n    <tr>\n      <th>5</th>\n      <td>Lufthansa</td>\n      <td>[12, 33]</td>\n      <td>20055</td>\n      <td>LONDON</td>\n      <td>MONTREAL</td>\n    </tr>\n  </tbody>\n</table>\n</div>"
          },
          "metadata": {}
        }
      ]
    }
  ]
}